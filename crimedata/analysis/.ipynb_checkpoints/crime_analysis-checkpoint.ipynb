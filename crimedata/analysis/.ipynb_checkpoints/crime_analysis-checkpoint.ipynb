{
 "cells": [
  {
   "cell_type": "code",
   "execution_count": 1,
   "id": "912d1ea9-6d30-422b-b2bf-e27e1ac5924c",
   "metadata": {},
   "outputs": [],
   "source": [
    "import pandas as pd\n",
    "from datetime import datetime\n",
    "import geopandas as gpd\n",
    "import warnings\n",
    "warnings.filterwarnings('ignore')\n",
    "import datetime as dt\n",
    "import numpy as np"
   ]
  },
  {
   "cell_type": "code",
   "execution_count": 2,
   "id": "343e56f5-0c7d-4b0e-a7c3-ec779edf85b6",
   "metadata": {},
   "outputs": [],
   "source": [
    "# https://data.cityofnewyork.us/download/i8iw-xf4u/application%2Fzip\n",
    "# https://data.cityofnewyork.us/api/views/qgea-i56i/rows.csv?accessType=DOWNLOAD\n",
    "\n",
    "# Download data from the url file above, and then put them into the current folder "
   ]
  },
  {
   "cell_type": "code",
   "execution_count": 3,
   "id": "8537c894-0ce4-478b-a6a0-a0bfb5ce078b",
   "metadata": {},
   "outputs": [],
   "source": [
    "from zipfile import ZipFile\n",
    "zf = ZipFile('ZIP_CODE_040114.zip', 'r')\n",
    "zf.extractall('zips')\n",
    "zf.close()"
   ]
  },
  {
   "cell_type": "code",
   "execution_count": 4,
   "id": "de96f835-ab21-4f6c-bdda-b53a68d06cd5",
   "metadata": {},
   "outputs": [],
   "source": [
    "data = pd.read_csv('NYPD_Complaint_Data_Historic.csv',error_bad_lines=False)\n",
    "data.drop(['PARKS_NM','STATION_NAME','TRANSIT_DISTRICT','HADEVELOPT','HOUSING_PSA','PREM_TYP_DESC','SUSP_AGE_GROUP',\\\n",
    "           'SUSP_SEX','SUSP_RACE','JURISDICTION_CODE','ADDR_PCT_CD','PD_CD','PD_DESC','PATROL_BORO','TRANSIT_DISTRICT',\\\n",
    "           'VIC_AGE_GROUP','VIC_SEX','JURIS_DESC','CRM_ATPT_CPTD_CD','CMPLNT_TO_DT','CMPLNT_TO_TM','LOC_OF_OCCUR_DESC',\\\n",
    "           'VIC_RACE','Lat_Lon','RPT_DT','KY_CD'],axis='columns', inplace=True)"
   ]
  },
  {
   "cell_type": "code",
   "execution_count": 5,
   "id": "f21978bd-e743-45eb-adc3-9995e9d92006",
   "metadata": {},
   "outputs": [],
   "source": [
    "data.drop_duplicates(subset = ['CMPLNT_NUM'], keep='first', inplace=True, ignore_index=False)\n",
    "data.dropna(subset=['CMPLNT_FR_DT','CMPLNT_FR_TM','Latitude','Longitude',], inplace=True)\n",
    "data['CMPLNT_FR_DT']= pd.to_datetime(data['CMPLNT_FR_DT'], errors='coerce')\n",
    "data = data[data['CMPLNT_FR_DT'].dt.year >= 2016]"
   ]
  },
  {
   "cell_type": "code",
   "execution_count": 6,
   "id": "cc49c198-5453-4309-8aa5-29a256284305",
   "metadata": {},
   "outputs": [],
   "source": [
    "zips = gpd.read_file('zips/ZIP_CODE_040114.shp')\n",
    "data_geo = gpd.GeoDataFrame(data, geometry=gpd.points_from_xy(data.X_COORD_CD, data.Y_COORD_CD))\n",
    "data_spa = gpd.sjoin(data_geo,zips, how = 'inner',op = 'within')\n",
    "data_pd = pd.DataFrame(data_spa)"
   ]
  },
  {
   "cell_type": "code",
   "execution_count": 7,
   "id": "c7055e8a-8ac5-4b95-bf64-1337ee5076c6",
   "metadata": {},
   "outputs": [],
   "source": [
    "data_pd = data_pd.reset_index(drop=True)\n",
    "data_pd.drop(['BLDGZIP','index_right','SHAPE_AREA','SHAPE_LEN','URL','CTY_FIPS','STATE','ST_FIPS','COUNTY'],axis='columns', inplace=True)"
   ]
  },
  {
   "cell_type": "code",
   "execution_count": 8,
   "id": "b0e6d53d-399a-4574-85e5-1e02288e0678",
   "metadata": {},
   "outputs": [],
   "source": [
    "df1 = data_pd.drop_duplicates(subset='ZIPCODE', keep='first', inplace=False, ignore_index=True)\n",
    "df1 = df1[['ZIPCODE','POPULATION','AREA']]\n",
    "data_temp = data_pd.groupby(by='ZIPCODE', as_index=False).count()[['ZIPCODE','CMPLNT_NUM']].rename(columns={'CMPLNT_NUM':'Numbers_complaints'})\n",
    "data_temp = data_temp.merge(df1, how = 'left')\n"
   ]
  },
  {
   "cell_type": "code",
   "execution_count": 9,
   "id": "04195e6d-b69f-4adc-85e7-c4bd93aaeb80",
   "metadata": {},
   "outputs": [],
   "source": [
    "data_temp['crime_norm_population'] = data_temp.Numbers_complaints.div(data_temp.POPULATION)\n",
    "data_temp.loc[~np.isfinite(data_temp['crime_norm_population']), 'crime_norm_population'] = 0\n",
    "data_temp['crime_norm_area'] = data_temp.Numbers_complaints.div(data_temp.AREA)"
   ]
  },
  {
   "cell_type": "code",
   "execution_count": 10,
   "id": "39f043b8-0a72-4de3-bf1c-b2e201bb0dff",
   "metadata": {},
   "outputs": [],
   "source": [
    "def normalize(data):\n",
    "    out = data.copy()\n",
    "    names = ['crime_norm_population','crime_norm_area','Numbers_complaints']\n",
    "    for feature_name in names:\n",
    "        max_value = data[feature_name].max()\n",
    "        min_value = data[feature_name].min()\n",
    "        out[feature_name] = (data[feature_name] - min_value) / (max_value - min_value)\n",
    "    return out"
   ]
  },
  {
   "cell_type": "code",
   "execution_count": 11,
   "id": "87884e3f-8110-4b6b-8afe-c4ac7aa0cebb",
   "metadata": {},
   "outputs": [],
   "source": [
    "data_normed = normalize(data_temp)\n",
    "data_normed['score'] =  data_normed['crime_norm_population'] + data_normed['crime_norm_area']+ data_normed['Numbers_complaints']\n",
    "data_sorted = data_normed.sort_values(by = ['score'], ascending = False,ignore_index=True)"
   ]
  },
  {
   "cell_type": "code",
   "execution_count": 12,
   "id": "31948ad1-c6cf-4e5f-aac0-a68eee569430",
   "metadata": {},
   "outputs": [],
   "source": [
    "data_sorted['safety_level'] = 0\n",
    "data_sorted.safety_level.loc[range(39)] = 1\n",
    "data_sorted.safety_level.loc[range(39,78)] = 2\n",
    "data_sorted.safety_level.loc[range(78,117)] = 3\n",
    "data_sorted.safety_level.loc[range(117,156)] = 4\n",
    "data_sorted.safety_level.loc[range(156,196)] = 5"
   ]
  },
  {
   "cell_type": "code",
   "execution_count": 13,
   "id": "30043376-adb3-4df2-8dfc-2f2113f19574",
   "metadata": {},
   "outputs": [],
   "source": [
    "data_final = data_sorted[['ZIPCODE','safety_level']]\n",
    "data_final.to_csv('zipcode_saftylevel.csv',index = False)"
   ]
  },
  {
   "cell_type": "code",
   "execution_count": null,
   "id": "071957b5-e036-4223-9bde-8f73134ddcc8",
   "metadata": {},
   "outputs": [],
   "source": []
  }
 ],
 "metadata": {
  "environment": {
   "kernel": "python3",
   "name": "common-cpu.m84",
   "type": "gcloud",
   "uri": "gcr.io/deeplearning-platform-release/base-cpu:m84"
  },
  "kernelspec": {
   "display_name": "Python 3",
   "language": "python",
   "name": "python3"
  },
  "language_info": {
   "codemirror_mode": {
    "name": "ipython",
    "version": 3
   },
   "file_extension": ".py",
   "mimetype": "text/x-python",
   "name": "python",
   "nbconvert_exporter": "python",
   "pygments_lexer": "ipython3",
   "version": "3.8.8"
  }
 },
 "nbformat": 4,
 "nbformat_minor": 5
}
